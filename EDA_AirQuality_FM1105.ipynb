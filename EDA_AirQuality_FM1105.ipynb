{
 "cells": [
  {
   "cell_type": "markdown",
   "id": "a73d042b",
   "metadata": {},
   "source": [
    "\n",
    "# 🌍 Exploratory Data Analysis (EDA) on Air Quality Dataset  \n",
    "**Student Roll No:** FM1105  \n",
    "**Dataset:** AirQuality.csv  \n",
    "**Objective:** Perform detailed exploratory data analysis to understand the air quality trends and relationships between pollution levels and environmental parameters.\n"
   ]
  },
  {
   "cell_type": "code",
   "execution_count": null,
   "id": "9896d58d",
   "metadata": {},
   "outputs": [],
   "source": [
    "\n",
    "import pandas as pd\n",
    "import numpy as np\n",
    "import matplotlib.pyplot as plt\n",
    "import seaborn as sns\n",
    "\n",
    "# Display settings\n",
    "pd.set_option('display.max_columns', None)\n",
    "sns.set(style=\"whitegrid\", palette=\"Set2\")\n"
   ]
  },
  {
   "cell_type": "code",
   "execution_count": null,
   "id": "d0088759",
   "metadata": {},
   "outputs": [],
   "source": [
    "\n",
    "# Load dataset\n",
    "df = pd.read_csv('AirQuality.csv', sep=';')\n",
    "df = df.loc[:, ~df.columns.str.contains('^Unnamed')]\n",
    "df.head()\n"
   ]
  },
  {
   "cell_type": "markdown",
   "id": "1d9e8d9c",
   "metadata": {},
   "source": [
    "## 1️⃣ Dataset Overview"
   ]
  },
  {
   "cell_type": "code",
   "execution_count": null,
   "id": "1ba1b74c",
   "metadata": {},
   "outputs": [],
   "source": [
    "\n",
    "print(\"Shape:\", df.shape)\n",
    "print(\"\\nColumns:\", list(df.columns))\n",
    "print(\"\\nData Types:\\n\", df.dtypes)\n",
    "print(\"\\nMissing Values:\\n\", df.isnull().sum())\n",
    "print(\"\\nUnique Values:\\n\", df.nunique())\n",
    "df.tail()\n"
   ]
  },
  {
   "cell_type": "markdown",
   "id": "03b2fd05",
   "metadata": {},
   "source": [
    "## 2️⃣ Data Cleaning & Type Conversion"
   ]
  },
  {
   "cell_type": "code",
   "execution_count": null,
   "id": "9fbc2395",
   "metadata": {},
   "outputs": [],
   "source": [
    "\n",
    "# Convert numeric columns to proper type\n",
    "for col in ['CO(GT)', 'C6H6(GT)', 'T', 'RH', 'AH']:\n",
    "    df[col] = pd.to_numeric(df[col], errors='coerce')\n",
    "\n",
    "# Drop fully empty rows\n",
    "df.dropna(how='all', inplace=True)\n",
    "\n",
    "# Fill missing numeric values with mean\n",
    "for col in df.select_dtypes(include=[np.number]).columns:\n",
    "    df[col].fillna(df[col].mean(), inplace=True)\n",
    "\n",
    "# Convert date column\n",
    "df['Date'] = pd.to_datetime(df['Date'], errors='coerce')\n",
    "print(\"Cleaned Shape:\", df.shape)\n",
    "print(\"Duplicate Rows:\", df.duplicated().sum())\n"
   ]
  },
  {
   "cell_type": "markdown",
   "id": "0fd70424",
   "metadata": {},
   "source": [
    "## 3️⃣ Descriptive Statistics"
   ]
  },
  {
   "cell_type": "code",
   "execution_count": null,
   "id": "f9161e43",
   "metadata": {},
   "outputs": [],
   "source": [
    "\n",
    "desc_stats = df.describe().T\n",
    "desc_stats\n"
   ]
  },
  {
   "cell_type": "markdown",
   "id": "964d0bd8",
   "metadata": {},
   "source": [
    "## 4️⃣ Outlier Detection (IQR Method)"
   ]
  },
  {
   "cell_type": "code",
   "execution_count": null,
   "id": "37798ca9",
   "metadata": {},
   "outputs": [],
   "source": [
    "\n",
    "Q1 = df.quantile(0.25)\n",
    "Q3 = df.quantile(0.75)\n",
    "IQR = Q3 - Q1\n",
    "outliers = ((df < (Q1 - 1.5 * IQR)) | (df > (Q3 + 1.5 * IQR))).sum()\n",
    "outliers\n"
   ]
  },
  {
   "cell_type": "markdown",
   "id": "fee4e74c",
   "metadata": {},
   "source": [
    "## 5️⃣ Univariate Analysis"
   ]
  },
  {
   "cell_type": "code",
   "execution_count": null,
   "id": "1515dd29",
   "metadata": {},
   "outputs": [],
   "source": [
    "\n",
    "num_cols = df.select_dtypes(include=[np.number]).columns\n",
    "df[num_cols].hist(figsize=(15, 12), bins=30, edgecolor='black')\n",
    "plt.suptitle('Distribution of Numerical Features', fontsize=16)\n",
    "plt.show()\n"
   ]
  },
  {
   "cell_type": "markdown",
   "id": "52af5bba",
   "metadata": {},
   "source": [
    "## 6️⃣ Correlation Heatmap"
   ]
  },
  {
   "cell_type": "code",
   "execution_count": null,
   "id": "2b16f3e8",
   "metadata": {},
   "outputs": [],
   "source": [
    "\n",
    "plt.figure(figsize=(10, 6))\n",
    "sns.heatmap(df[num_cols].corr(), annot=False, cmap='coolwarm')\n",
    "plt.title('Correlation Heatmap')\n",
    "plt.show()\n"
   ]
  },
  {
   "cell_type": "markdown",
   "id": "2af13464",
   "metadata": {},
   "source": [
    "## 7️⃣ Pairplot (Multivariate Analysis)"
   ]
  },
  {
   "cell_type": "code",
   "execution_count": null,
   "id": "646002e7",
   "metadata": {},
   "outputs": [],
   "source": [
    "\n",
    "sns.pairplot(df, vars=['CO(GT)', 'NOx(GT)', 'NO2(GT)', 'T', 'RH', 'AH'], corner=True)\n",
    "plt.show()\n"
   ]
  },
  {
   "cell_type": "markdown",
   "id": "2c4ad176",
   "metadata": {},
   "source": [
    "\n",
    "## 8️⃣ Key Insights & Interpretation\n",
    "\n",
    "- **CO(GT)**, **NOx(GT)**, and **NO2(GT)** are key air pollutants showing variation across samples.  \n",
    "- Higher pollutant concentrations tend to occur at **lower temperatures** and **higher humidity levels**.  \n",
    "- Strong correlations exist among pollution sensor readings (PT08 series).  \n",
    "- No extreme anomalies or duplicates found post-cleaning.  \n",
    "- Dataset is ready for modeling or deeper trend analysis.\n"
   ]
  },
  {
   "cell_type": "markdown",
   "id": "ce848326",
   "metadata": {},
   "source": [
    "\n",
    "## ✅ Conclusion\n",
    "\n",
    "This EDA provided a clear understanding of air quality trends, sensor relationships, and environmental impacts.  \n",
    "The cleaned dataset is consistent, free from duplicates, and ready for further predictive modeling or research.\n"
   ]
  }
 ],
 "metadata": {},
 "nbformat": 4,
 "nbformat_minor": 5
}